{
 "cells": [
  {
   "cell_type": "markdown",
   "metadata": {},
   "source": [
    "# Image Sampler from Camera"
   ]
  },
  {
   "cell_type": "markdown",
   "metadata": {},
   "source": [
    "## Import"
   ]
  },
  {
   "cell_type": "code",
   "execution_count": 1,
   "metadata": {},
   "outputs": [],
   "source": [
    "import time\n",
    "import cv2 as cv\n",
    "import matplotlib.pyplot as plt\n",
    "from datetime import datetime\n",
    "from pseyepy import Camera, Stream\n"
   ]
  },
  {
   "cell_type": "markdown",
   "metadata": {},
   "source": [
    "## Save Path"
   ]
  },
  {
   "cell_type": "code",
   "execution_count": null,
   "metadata": {},
   "outputs": [],
   "source": [
    "save_path = \"./footage_test/\""
   ]
  },
  {
   "cell_type": "markdown",
   "metadata": {},
   "source": [
    "## Sample Image"
   ]
  },
  {
   "cell_type": "code",
   "execution_count": 5,
   "metadata": {},
   "outputs": [
    {
     "name": "stdout",
     "output_type": "stream",
     "text": [
      "about to init\n",
      "pyc count: \n",
      "4\n"
     ]
    }
   ],
   "source": [
    "# initialize all connected cameras\n",
    "c = Camera(fps=100)\n",
    "\n",
    "buffer = []\n",
    "max_count = 200\n",
    "# read from the camera/s\n",
    "while True:\n",
    "    frames, timestamp = c.read()\n",
    "    if frames and timestamp:\n",
    "        buffer.append(zip(frames,timestamp))\n",
    "    # print(len(buffer))\n",
    "    if len(buffer)>=max_count:break\n",
    "c.end()\n",
    "\n",
    "for buff in buffer:\n",
    "    for i,(frame,ts) in enumerate(buff):\n",
    "    # for i,(frame,ts) in enumerate(zip(frames,timestamp)):\n",
    "        time = datetime.fromtimestamp(ts).strftime('%Y-%m-%d_%H:%M:%S.%f')\n",
    "        #print(i, time)\n",
    "        # plt.figure()\n",
    "        # plt.imshow(frame)\n",
    "        #print(f'{save_path}{i}/{time}.png')\n",
    "        cv.imwrite(f'{save_path}{i}/{time}.png',frame)\n",
    "    # when finished, close the camera"
   ]
  },
  {
   "cell_type": "code",
   "execution_count": null,
   "metadata": {},
   "outputs": [],
   "source": []
  }
 ],
 "metadata": {
  "kernelspec": {
   "display_name": ".venv",
   "language": "python",
   "name": "python3"
  },
  "language_info": {
   "codemirror_mode": {
    "name": "ipython",
    "version": 3
   },
   "file_extension": ".py",
   "mimetype": "text/x-python",
   "name": "python",
   "nbconvert_exporter": "python",
   "pygments_lexer": "ipython3",
   "version": "3.10.12"
  }
 },
 "nbformat": 4,
 "nbformat_minor": 2
}
